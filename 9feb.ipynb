{
 "cells": [
  {
   "cell_type": "code",
   "execution_count": 2,
   "id": "04060df0-a495-4f6d-8c55-17e97cb89158",
   "metadata": {},
   "outputs": [
    {
     "data": {
      "text/plain": [
       "('XUV 700', 150, 15)"
      ]
     },
     "execution_count": 2,
     "metadata": {},
     "output_type": "execute_result"
    }
   ],
   "source": [
    "# Q1. Create a vehicle class with an init method having instance variables as name_of_vehicle, max_speed and average_of_vehicle.\n",
    "\n",
    "class Vehicle:\n",
    "    \n",
    "    def __init__(self,name_of_vehicle,max_speed,average_of_vehicle):\n",
    "        self.name = name_of_vehicle\n",
    "        self.speed = max_speed\n",
    "        self.avg = average_of_vehicle\n",
    "        \n",
    "    def return_vehicle_details(self):\n",
    "        return self.name,self.speed,self.avg\n",
    "Car = Vehicle(\"XUV 700\",150,15)\n",
    "Car.return_vehicle_details()\n"
   ]
  },
  {
   "cell_type": "code",
   "execution_count": 6,
   "id": "45714a4e-3b97-4a14-b96f-71b8131341d1",
   "metadata": {},
   "outputs": [
    {
     "data": {
      "text/plain": [
       "'The seating capacity of a Thar is 7 passengers.'"
      ]
     },
     "execution_count": 6,
     "metadata": {},
     "output_type": "execute_result"
    }
   ],
   "source": [
    "'''Q2. Create a child class car from the vehicle class created in Que 1, which will inherit the vehicle class.\n",
    "Create a method named seating_capacity which takes capacity as an argument and returns the name of\n",
    "the vehicle and its seating capacity.'''\n",
    "\n",
    "class Vehicle1:\n",
    "    \n",
    "    def __init__(self,name_of_vehicle,max_speed,average_of_vehicle):\n",
    "        self.name = name_of_vehicle\n",
    "        self.speed = max_speed\n",
    "        self.avg = average_of_vehicle\n",
    "        \n",
    "    def return_vehicle_details(self):\n",
    "        return self.name,self.speed,self.avg\n",
    "\n",
    "class Car(Vehicle1):\n",
    "    \n",
    "    def seating_capacity(self,capacity):\n",
    "        return f\"The seating capacity of a {self.name} is {capacity} passengers.\"\n",
    "Car1 = Car(\"Thar\",150,5)\n",
    "Car1.seating_capacity(7)"
   ]
  },
  {
   "cell_type": "code",
   "execution_count": 9,
   "id": "820b43eb-435b-412f-bc85-f87ca3a4c373",
   "metadata": {},
   "outputs": [
    {
     "data": {
      "text/plain": [
       "'This is class 2.'"
      ]
     },
     "execution_count": 9,
     "metadata": {},
     "output_type": "execute_result"
    }
   ],
   "source": [
    "# Q3. What is multiple inheritance? Write a python code to demonstrate multiple inheritance.\n",
    "\n",
    "# Ans:- When a class is derived from more than one base class it is called multiple Inheritance. \n",
    "#       The derived class inherits all the features of the base case.\n",
    "\n",
    "\n",
    "class c1: # create class c1\n",
    "    def test_c1(self):\n",
    "        return \"This is class 1.\"\n",
    "\n",
    "class c2: # create class c2\n",
    "    def test_c2(self):\n",
    "        return \"This is class 2.\"\n",
    "    \n",
    "class c3(c1,c2): # inherit class c3 in c1 & c2\n",
    "    pass\n",
    "\n",
    "obj_c3 = c3() # object of c3\n",
    "obj_c3.test_c1() # shows multiple inheritance\n",
    "\n",
    "obj_c3.test_c2() # shows multiple inheritance\n",
    "\n"
   ]
  },
  {
   "cell_type": "code",
   "execution_count": 10,
   "id": "e4ad595f-8a36-417b-a6ee-f0042fc40d52",
   "metadata": {},
   "outputs": [
    {
     "name": "stdout",
     "output_type": "stream",
     "text": [
      "20\n",
      "20\n"
     ]
    }
   ],
   "source": [
    "''' Q4. What are getter and setter in python? Create a class and create a getter and a setter method in this class.\n",
    "    Ans.Getters are the methods that are used in Object-Oriented Programming (OOPS) to access a class's private attributes.\n",
    "    The setattr() function in Python corresponds to the getattr() function in Python. It alters an object's attribute values.\n",
    "    The setter is a method that is used to set the property's value. It is very useful in object-oriented programming to set the value of \n",
    "    private attributes in a class.\n",
    "    Generally, getters and setters are mainly used to ensure the data encapsulation in OOPs.'''\n",
    "class Age:\n",
    "    \n",
    "    def __init__(self,age = 0):\n",
    "        self._age = age\n",
    "        \n",
    "        \n",
    "    # using the getter method\n",
    "    def get_age(self):\n",
    "        return self._age\n",
    "    \n",
    "    \n",
    "    # using the setter method\n",
    "    def set_age(self,a):\n",
    "        self._age = a\n",
    "        \n",
    "    \n",
    "Abhi = Age()\n",
    "\n",
    "# using the setter function\n",
    "Abhi.set_age(20)\n",
    "\n",
    "# using the getter function\n",
    "print(Abhi.get_age())\n",
    "\n",
    "print(Abhi._age)\n",
    "    \n",
    "    "
   ]
  },
  {
   "cell_type": "code",
   "execution_count": null,
   "id": "6f865ead-c8bc-447c-8d64-0063dbdd00bc",
   "metadata": {},
   "outputs": [],
   "source": [
    "''' Q5. What is method overriding in python? Write a python code to demonstrate method overriding.\n",
    "Ans:-\n",
    "Method overriding is an ability of any object-oriented programming language that allows a subclass or child class\n",
    "to provide a specific implementation of a method that is already provided by one of its super-classes or parent classes. \n",
    "When a method in a subclass has the same name, same parameters or signature and same return type(or sub-type) as a method in its\n",
    "super-class, then the method in the subclass is said to override the method in the super-class.'''\n",
    "class Parent():\n",
    "      \n",
    "    # Constructor\n",
    "    def __init__(self):\n",
    "        self.value = \"Inside Parent\"\n",
    "          \n",
    "    # Parent's show method\n",
    "    def show(self):\n",
    "        print(self.value)\n",
    "          \n",
    "# Defining child class\n",
    "class Child(Parent):\n",
    "      \n",
    "    # Constructor\n",
    "    def __init__(self):\n",
    "        self.value = \"Inside Child\"\n",
    "          \n",
    "    # Child's show method\n",
    "    def show(self):\n",
    "        print(self.value)\n",
    "          \n",
    "          \n",
    "# Driver's code\n",
    "obj1 = Parent()\n",
    "obj2 = Child()\n",
    "  \n",
    "obj1.show()\n",
    "obj2.show()\n"
   ]
  }
 ],
 "metadata": {
  "kernelspec": {
   "display_name": "Python 3 (ipykernel)",
   "language": "python",
   "name": "python3"
  },
  "language_info": {
   "codemirror_mode": {
    "name": "ipython",
    "version": 3
   },
   "file_extension": ".py",
   "mimetype": "text/x-python",
   "name": "python",
   "nbconvert_exporter": "python",
   "pygments_lexer": "ipython3",
   "version": "3.10.8"
  }
 },
 "nbformat": 4,
 "nbformat_minor": 5
}
