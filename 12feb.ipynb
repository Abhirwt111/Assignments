{
 "cells": [
  {
   "cell_type": "code",
   "execution_count": null,
   "id": "6a268478-8b29-434e-81b9-2bbb1a012af9",
   "metadata": {},
   "outputs": [],
   "source": [
    "''' Q1. What is an exception in python? Write  the difference between exception and syntax error?\n",
    "   Ans. An exception is an event, which occurs during the execution of a program that disrupts the normal flow of the program's instructions.\n",
    "        The difference between syntax error and exception is:-\n",
    "        Syntax Errors cannot be handled, while Python exceptions can be handled at the run time.'''\n"
   ]
  },
  {
   "cell_type": "code",
   "execution_count": 1,
   "id": "6a8fd88d-4d9b-4c36-ad32-9809d5a2d354",
   "metadata": {},
   "outputs": [
    {
     "name": "stdout",
     "output_type": "stream",
     "text": [
      "Error: Denominator cannot be 0.\n"
     ]
    }
   ],
   "source": [
    "''' Q2. What happens when a exception is not handled ? explain with an example? \n",
    "    Ans. If an exception occurs during execution of the try clause, the exception may be handled by an except clause.\n",
    "    If the exception is not handled by an except clause, the exception is re-raised after the finally clause has been executed.'''\n",
    "\n",
    "try:\n",
    "    numerator = 10\n",
    "    denominator = 0\n",
    "\n",
    "    result = numerator/denominator\n",
    "\n",
    "    print(result)\n",
    "except:\n",
    "    print(\"Error: Denominator cannot be 0.\")\n",
    "\n"
   ]
  },
  {
   "cell_type": "code",
   "execution_count": null,
   "id": "3f55cd59-a77c-4ec4-aede-c394e9ab9392",
   "metadata": {},
   "outputs": [],
   "source": [
    "''' Q3. Which python statements are used to catch and handle the exceptions? Explain with an example?\n",
    "    Ans. In Python, we catch exceptions and handle them using try and except code blocks. The try clause contains the code \n",
    "        that can raise an exception, while the except clause contains the code lines that handle the exception.\n",
    "        '''\n"
   ]
  },
  {
   "cell_type": "code",
   "execution_count": 11,
   "id": "3c0d5b2d-303a-459a-9ef5-50ef4e6bd32f",
   "metadata": {},
   "outputs": [
    {
     "name": "stdout",
     "output_type": "stream",
     "text": [
      "Hello\n",
      "Nothing went wrong\n",
      "Nothing went wrong\n",
      "The try...except block is finished\n"
     ]
    },
    {
     "ename": "Exception",
     "evalue": "Sorry, no numbers below zero",
     "output_type": "error",
     "traceback": [
      "\u001b[0;31m---------------------------------------------------------------------------\u001b[0m",
      "\u001b[0;31mException\u001b[0m                                 Traceback (most recent call last)",
      "Cell \u001b[0;32mIn[11], line 23\u001b[0m\n\u001b[1;32m     20\u001b[0m x \u001b[38;5;241m=\u001b[39m \u001b[38;5;241m-\u001b[39m\u001b[38;5;241m1\u001b[39m\n\u001b[1;32m     22\u001b[0m \u001b[38;5;28;01mif\u001b[39;00m x \u001b[38;5;241m<\u001b[39m \u001b[38;5;241m0\u001b[39m:\n\u001b[0;32m---> 23\u001b[0m     \u001b[38;5;28;01mraise\u001b[39;00m \u001b[38;5;167;01mException\u001b[39;00m(\u001b[38;5;124m\"\u001b[39m\u001b[38;5;124mSorry, no numbers below zero\u001b[39m\u001b[38;5;124m\"\u001b[39m)\n",
      "\u001b[0;31mException\u001b[0m: Sorry, no numbers below zero"
     ]
    }
   ],
   "source": [
    "# Q4. Explain with an example \n",
    "# 1. Try and else:-try block will test the excepted error to occur and else will do If there is no exception then this block will be executed.\n",
    "try:\n",
    "  print(\"Hello\")\n",
    "except:\n",
    "  print(\"Something went wrong\")\n",
    "else:\n",
    "  print(\"Nothing went wrong\")\n",
    "\n",
    "# 2.Finally: Finally block always gets executed either exception is generated or not.\n",
    "try:\n",
    "  x > 3\n",
    "except:\n",
    "  print(\"Something went wrong\")\n",
    "else:\n",
    "  print(\"Nothing went wrong\")\n",
    "finally:\n",
    "  print(\"The try...except block is finished\")\n",
    "# 3. raise allows you to throw an exception at any time. assert enables you to verify if a certain condition is met and throw an exception if it isn't.\n",
    "x = -1\n",
    "\n",
    "if x < 0:\n",
    "    raise Exception(\"Sorry, no numbers below zero\")\n"
   ]
  },
  {
   "cell_type": "code",
   "execution_count": 16,
   "id": "815b6d40-850b-4875-ba84-259b8fbb807f",
   "metadata": {},
   "outputs": [
    {
     "name": "stdin",
     "output_type": "stream",
     "text": [
      "Enter a number:  0\n"
     ]
    },
    {
     "name": "stdout",
     "output_type": "stream",
     "text": [
      "Input value is zero, try again!\n",
      "\n"
     ]
    }
   ],
   "source": [
    "''' Q5 Write a custum exception in python? Why do we need custum exception? Explain with an example?\n",
    "    Ans. Exceptions need to be derived from the Exception class, either directly or indirectly.\n",
    "    Although not mandatory, most of the exceptions are named as names that end in “Error” similar to the naming of \n",
    "    the standard exceptions in python.'''\n",
    "    # define Python user-defined exceptions\n",
    "class Error(Exception):\n",
    "\t\"\"\"Base class for other exceptions\"\"\"\n",
    "\tpass\n",
    "\n",
    "class zerodivision(Error):\n",
    "\t\"\"\"Raised when the input value is zero\"\"\"\n",
    "\tpass\n",
    "\n",
    "try:\n",
    "\ti_num = int(input(\"Enter a number: \"))\n",
    "\tif i_num == 0:\n",
    "\t\traise zerodivision\n",
    "except zerodivision:\n",
    "\tprint(\"Input value is zero, try again!\")\n",
    "\tprint()\n",
    "\n",
    "    \n"
   ]
  },
  {
   "cell_type": "code",
   "execution_count": 22,
   "id": "0fe061da-2680-4f71-8058-b71e28fd08f2",
   "metadata": {},
   "outputs": [
    {
     "name": "stdin",
     "output_type": "stream",
     "text": [
      "Enter a temperature in Fahrenheit: 35\n"
     ]
    },
    {
     "name": "stdout",
     "output_type": "stream",
     "text": [
      "35.0 Fahrenheit = 1.6667 Celsius\n"
     ]
    }
   ],
   "source": [
    "# Q6. Create a custum exception class. use this class to handle an exception.\n",
    "\n",
    "class FahrenheitError(Exception):\n",
    "    min_f = 32\n",
    "    max_f = 212\n",
    "\n",
    "    def __init__(self, f, *args):\n",
    "        super().__init__(args)\n",
    "        self.f = f\n",
    "\n",
    "    def __str__(self):\n",
    "        return f'The {self.f} is not in a valid range {self.min_f, self.max_f}'\n",
    "\n",
    "\n",
    "def fahrenheit_to_celsius(f: float) -> float:\n",
    "    if f < FahrenheitError.min_f or f > FahrenheitError.max_f:\n",
    "        raise FahrenheitError(f)\n",
    "\n",
    "    return (f - 32) * 5 / 9\n",
    "\n",
    "\n",
    "if __name__ == '__main__':\n",
    "    f = input('Enter a temperature in Fahrenheit:')\n",
    "    try:\n",
    "        f = float(f)\n",
    "    except ValueError as ex:\n",
    "        print(ex)\n",
    "    else:\n",
    "        try:\n",
    "            c = fahrenheit_to_celsius(float(f))\n",
    "        except FahrenheitError as ex:\n",
    "            print(ex)\n",
    "        else:\n",
    "            print(f'{f} Fahrenheit = {c:.4f} Celsius')\n",
    "    "
   ]
  },
  {
   "cell_type": "code",
   "execution_count": null,
   "id": "0c95df99-d6e2-488c-828c-89ecfa232c22",
   "metadata": {},
   "outputs": [],
   "source": []
  }
 ],
 "metadata": {
  "kernelspec": {
   "display_name": "Python 3 (ipykernel)",
   "language": "python",
   "name": "python3"
  },
  "language_info": {
   "codemirror_mode": {
    "name": "ipython",
    "version": 3
   },
   "file_extension": ".py",
   "mimetype": "text/x-python",
   "name": "python",
   "nbconvert_exporter": "python",
   "pygments_lexer": "ipython3",
   "version": "3.10.8"
  }
 },
 "nbformat": 4,
 "nbformat_minor": 5
}
