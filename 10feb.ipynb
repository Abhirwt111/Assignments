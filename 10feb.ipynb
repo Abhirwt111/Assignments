{
 "cells": [
  {
   "cell_type": "code",
   "execution_count": null,
   "id": "8e0b969a-4667-4b7c-bf7c-517b4aef4a98",
   "metadata": {},
   "outputs": [],
   "source": [
    "'''Q1. Which function is used to open a file? What are the different modes of opening a file? Explain each mode\n",
    "       of file opening.\n",
    "   Ans.  In Python, we use the open() method to open files. Modes of opening a file are \"r\", \"w\", \"rw\", \"a\", \"rt\", \"wt\", \"rwt\", and \"at\" etc.\n",
    "         r - open a file for reading. (default)\n",
    "\n",
    "        w - Open a file for writing. If file already exists its data will be cleared before opening. Otherwise new file will be created\n",
    "\n",
    "        x - open for exclusive creation, failing if the file already exists\n",
    "\n",
    "        a - open for writing, appending to the end of the file if it exists\n",
    "\n",
    "        b - binary mode\n",
    "\n",
    "        t - text mode (default)\n",
    "\n",
    "        +r - Open a file for updating (reading and writing)\n",
    "'''"
   ]
  },
  {
   "cell_type": "code",
   "execution_count": null,
   "id": "2e6ec5f8-c52d-470d-b0dc-0f8cc10356c1",
   "metadata": {},
   "outputs": [],
   "source": [
    "'''Q2. Why close() function is used? Why is it important to close a file?\n",
    "   Ans. The close() method closes an open file.\n",
    "        It is important because we should always close your files, in some cases, due to buffering, \n",
    "   changes made to a file may not show until you close the file. '''\n",
    "   "
   ]
  },
  {
   "cell_type": "code",
   "execution_count": 6,
   "id": "0e8b3dda-0acd-41b5-b4f7-ebadc8762dfb",
   "metadata": {},
   "outputs": [
    {
     "name": "stdout",
     "output_type": "stream",
     "text": [
      "I want to become a data scientist\n"
     ]
    }
   ],
   "source": [
    "''' Q3. Write a python program to create a text file. Write ‘I want to become a Data Scientist’ in that file. Then\n",
    "close the file. Open this file and read the content of the file.'''\n",
    "\n",
    "f= open(\"text.txt\") \n",
    "c= f.read()\n",
    "print(c)\n",
    "f.close()\n"
   ]
  },
  {
   "cell_type": "code",
   "execution_count": null,
   "id": "847c6f4f-fd2f-493b-ae52-a69698cf0ccf",
   "metadata": {},
   "outputs": [],
   "source": [
    "# Q4. Explain the following with python code: read(), readline() and readlines().\n",
    "''' Ans. Read ( ): Returns the read bytes in the form of a string. Reads n bytes; if n is not specified, then reads the entire file.\n",
    "         Readline ( ): Reads a line of the file and returns in the form of a string. For specified n, reads at most n bytes.'''\n"
   ]
  },
  {
   "cell_type": "code",
   "execution_count": null,
   "id": "eac0270d-b84b-4380-b5ef-d7df96b938c3",
   "metadata": {},
   "outputs": [],
   "source": [
    "#  Q5. Explain why with statement is used with open(). What is the advantage of using with statement and open() together?\n",
    "    ''' Ans.  The with statement works with the open() function to open a file. \n",
    "    \n",
    "    Unlike open() where you have to close the file with the close() method, \n",
    "    the with statement closes the file for you without you telling it to.'''"
   ]
  },
  {
   "cell_type": "code",
   "execution_count": null,
   "id": "95a38892-d4e1-463c-9878-cb1d1ecc7572",
   "metadata": {},
   "outputs": [],
   "source": [
    "# Q6. Explain the write() and writelines() functions. Give a suitable example.\n",
    "''' Ans.  Write() :- This method displays the output but do not provide a new line character.\n",
    "          WriteLine():- This method displays the output and also provides a new line character it the end of the string, \n",
    "                        This would set a new line for the next output.'''\n"
   ]
  }
 ],
 "metadata": {
  "kernelspec": {
   "display_name": "Python 3 (ipykernel)",
   "language": "python",
   "name": "python3"
  },
  "language_info": {
   "codemirror_mode": {
    "name": "ipython",
    "version": 3
   },
   "file_extension": ".py",
   "mimetype": "text/x-python",
   "name": "python",
   "nbconvert_exporter": "python",
   "pygments_lexer": "ipython3",
   "version": "3.10.8"
  }
 },
 "nbformat": 4,
 "nbformat_minor": 5
}
