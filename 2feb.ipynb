{
 "cells": [
  {
   "cell_type": "code",
   "execution_count": null,
   "id": "4a660ceb-17ac-41ef-b3da-f54b756f2677",
   "metadata": {},
   "outputs": [],
   "source": [
    "''' Q1. Explain with an example each when to use a for loop and a while loop.\n",
    "\n",
    " Ans. Use a for loop when you know the loop should execute n times.\n",
    "      Whereas A \"While\" Loop is used to repeat a specific block of code an unknown number of times, \n",
    "      until a condition is met.\n",
    "''' \n",
    "\n",
    "\n",
    "\n",
    "\n"
   ]
  },
  {
   "cell_type": "code",
   "execution_count": 2,
   "id": "dbff00ee-b185-4508-a642-5107949f547b",
   "metadata": {},
   "outputs": [
    {
     "name": "stdout",
     "output_type": "stream",
     "text": [
      "Enter the Value of n: "
     ]
    },
    {
     "name": "stdin",
     "output_type": "stream",
     "text": [
      " 10\n"
     ]
    },
    {
     "name": "stdout",
     "output_type": "stream",
     "text": [
      "\n",
      "Sum = 55\n",
      "Enter the Value of n: \n"
     ]
    },
    {
     "name": "stdin",
     "output_type": "stream",
     "text": [
      " 10\n"
     ]
    },
    {
     "name": "stdout",
     "output_type": "stream",
     "text": [
      "\n",
      "Sum = 55\n"
     ]
    }
   ],
   "source": [
    "# Q2. Write a python program to print the sum and product of the first 10 natural numbers using for and while loop.\n",
    "#for loop \n",
    "print(\"Enter the Value of n: \", end=\"\")\n",
    "try:\n",
    "  n = int(input())\n",
    "  if n<0:\n",
    "    print(\"\\nInvalid Input!\")\n",
    "  else:\n",
    "    sum = 0\n",
    "    for i in range(1, n+1):\n",
    "      sum = sum+i\n",
    "    print(\"\\nSum =\", sum)\n",
    "except ValueError:\n",
    "  print(\"\\nInvalid Input!\")\n",
    "\n",
    "#while loop\n",
    "print(\"Enter the Value of n: \")\n",
    "n = int(input())\n",
    "\n",
    "sum = 0\n",
    "i = 1\n",
    "while i<=n:\n",
    "  sum = sum+i\n",
    "  i = i+1\n",
    "\n",
    "print(\"\\nSum =\", sum)"
   ]
  },
  {
   "cell_type": "code",
   "execution_count": 4,
   "id": "13abda79-e6b4-4bb7-8321-74d3b60f2577",
   "metadata": {},
   "outputs": [
    {
     "name": "stdin",
     "output_type": "stream",
     "text": [
      "Enter the No of units =  310\n"
     ]
    },
    {
     "name": "stdout",
     "output_type": "stream",
     "text": [
      "Bill =  2250.0\n"
     ]
    }
   ],
   "source": [
    "'''Q3. Create a python program to compute the electricity bill for a household.\n",
    "\n",
    "The per-unit charges in rupees are as follows: For the first 100 units, the user will be charged Rs. 4.5 per\n",
    "unit, for the next 100 units, the user will be charged Rs. 6 per unit, and for the next 100 units, the user will\n",
    "be charged Rs. 10 per unit, After 300 units and above the user will be charged Rs. 20 per unit.\n",
    "\n",
    "You are required to take the units of electricity consumed in a month from the user as input.\n",
    "\n",
    "Your program must pass this test case: when the unit of electricity consumed by the user in a month is\n",
    "310, the total electricity bill should be 2250. '''\n",
    "\n",
    "unit = int(input('Enter the No of units = '))\n",
    "price = 0 \n",
    "if unit<=100:\n",
    "    price = (4.5 * unit)\n",
    "elif unit>100 and unit<=200:\n",
    "    price = 4.5 * 100 + 6 * (unit-100)\n",
    "elif unit > 200 and unit <= 300:\n",
    "    price = 4.5 * 100 + 6 * 100 + 10 * (unit - 200)\n",
    "else:\n",
    "    price = 4.5 * 100 + 6 * 100 + 10 * 100 + 20 * (unit-300)\n",
    "\n",
    "print('Bill = ',price)\n"
   ]
  },
  {
   "cell_type": "code",
   "execution_count": 5,
   "id": "80e4d4f3-7843-4d50-bd9f-5018e0fd7d95",
   "metadata": {},
   "outputs": [
    {
     "name": "stdout",
     "output_type": "stream",
     "text": [
      "[2, 4, 5, 6, 8, 10, 12, 14, 15, 16, 18, 20, 22, 24, 25, 26, 28, 30, 32, 34, 35, 36, 38, 40, 42, 44, 45, 46, 48, 50, 52, 54, 55, 56, 58, 60, 62, 64, 65, 66, 68, 70, 72, 74, 75, 76, 78, 80, 82, 84, 85, 86, 88, 90, 92, 94, 95, 96, 98, 100]\n"
     ]
    }
   ],
   "source": [
    "'''Q4. Create a list of numbers from 1 to 100. Use for loop and while loop to calculate the cube of each\n",
    "number and if the cube of that number is divisible by 4 or 5 then append that number in a list and print\n",
    "that list. '''\n",
    "\n",
    "result = []\n",
    "arr = list(range(1,101))\n",
    "for x in arr:\n",
    "    cube = x**3\n",
    "    if cube%4 == 0 or cube%5 == 0:\n",
    "        result.append(x)\n",
    "print(result)"
   ]
  },
  {
   "cell_type": "code",
   "execution_count": null,
   "id": "ec422df3-6419-4004-a151-489a009bc97d",
   "metadata": {},
   "outputs": [],
   "source": [
    "#Write a program to filter count vowels in the below-given string. string = \"I want to become a data scientist\"\n",
    "\n",
    "string = \"I want to become a data scientist\"\n",
    "count_vowels = 0\n",
    "for x in string :\n",
    "    if x.lower() in ['a','e','i','o','u']:\n",
    "        count_vowels += 1\n",
    "        \n",
    "print('No of vowels = ',count_vowels) "
   ]
  }
 ],
 "metadata": {
  "kernelspec": {
   "display_name": "Python 3 (ipykernel)",
   "language": "python",
   "name": "python3"
  },
  "language_info": {
   "codemirror_mode": {
    "name": "ipython",
    "version": 3
   },
   "file_extension": ".py",
   "mimetype": "text/x-python",
   "name": "python",
   "nbconvert_exporter": "python",
   "pygments_lexer": "ipython3",
   "version": "3.10.8"
  }
 },
 "nbformat": 4,
 "nbformat_minor": 5
}
