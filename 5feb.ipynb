{
 "cells": [
  {
   "cell_type": "code",
   "execution_count": null,
   "id": "cc305dcb-1f44-4cb3-8d67-67e47f219d2e",
   "metadata": {},
   "outputs": [],
   "source": [
    "# Q1. Explain Class and Object with respect to Object-Oriented Programming. Give a suitable example.\n",
    "\"\"\" A class is considered as a blueprint of objects. We can think of the class as a sketch (prototype) of a house. \n",
    "    eg:- class Bike:\n",
    "        name = \"\"\n",
    "        gear = 0\n",
    "        \n",
    "    An object is called an instance of a class. For example, suppose Bike is a class then we can create objects like bike1, bike2, etc \n",
    "    from the class.\n",
    "    eg:- # create class\n",
    "class Bike:\n",
    "    name = \"\"\n",
    "    gear = 0\n",
    "\n",
    "# create objects of class\n",
    "bike1 = Bike() \"\"\""
   ]
  },
  {
   "cell_type": "code",
   "execution_count": null,
   "id": "0ac64cd8-434c-4425-950f-24b4498064d2",
   "metadata": {},
   "outputs": [],
   "source": [
    "''' Q2. Name the four pillars of OOPs.\n",
    "    \n",
    "Ans. The four pillars of oops are :-\n",
    "    1.Polymorphism\n",
    "    2.Inheritance\n",
    "    3.Abstraction\n",
    "    4.Encapsulation '''"
   ]
  },
  {
   "cell_type": "code",
   "execution_count": 4,
   "id": "9aa06930-3ee4-4336-a10a-04569de754bb",
   "metadata": {},
   "outputs": [
    {
     "name": "stdout",
     "output_type": "stream",
     "text": [
      "Hello, my name is Abhishek\n"
     ]
    }
   ],
   "source": [
    "''' Q3. Explain why the __init__() function is used. Give a suitable example.\n",
    "Ans-- The __init__ method is the Python equivalent of the C++ constructor in an object-oriented approach.\n",
    "The __init__ function is called every time an object is created from a class.\n",
    "The __init__ method lets the class initialize the object's attributes and serves no other purpose.\n",
    "It is only used within classes. '''\n",
    "\n",
    "class Person:\n",
    " \n",
    "    # init method or constructor\n",
    "    def __init__(self, name):\n",
    "        self.name = name\n",
    " \n",
    "    # Sample Method\n",
    "    def say_hi(self):\n",
    "        print('Hello, my name is', self.name)\n",
    " \n",
    " \n",
    "p = Person('Abhishek')\n",
    "p.say_hi()\n",
    "\n"
   ]
  },
  {
   "cell_type": "code",
   "execution_count": null,
   "id": "c7a1a5e5-167e-4eee-9e9e-ff3ff1c55870",
   "metadata": {},
   "outputs": [],
   "source": [
    "''' Q4. Why self is used in OOPs?\n",
    "Ans. Self represents the instance of the class. By using the “self”  we can access the attributes and methods of the class in python.\n",
    "It binds the attributes with the given arguments.'''\n"
   ]
  },
  {
   "cell_type": "code",
   "execution_count": null,
   "id": "3a4dd444-21b3-4e82-acad-589c526e340e",
   "metadata": {},
   "outputs": [],
   "source": [
    "''' Q5. What is inheritance? Give an example for each type of inheritance.\n",
    "Ans.  Inheritance allows us to define a class that inherits all the methods and properties from another class.\n",
    "\n",
    "Parent class is the class being inherited from, also called base class.\n",
    "\n",
    "Child class is the class that inherits from another class, also called derived class.'''\n",
    "\n",
    "class Animal:\n",
    "\n",
    "    # attribute and method of the parent class\n",
    "    name = \"\"\n",
    "    \n",
    "    def eat(self):\n",
    "        print(\"I can eat\")\n",
    "\n",
    "# inherit from Animal\n",
    "class Dog(Animal):\n",
    "\n",
    "    # new method in subclass\n",
    "    def display(self):\n",
    "        # access name attribute of superclass using self\n",
    "        print(\"My name is \", self.name)\n",
    "\n",
    "# create an object of the subclass\n",
    "labrador = Dog()\n",
    "\n",
    "# access superclass attribute and method \n",
    "labrador.name = \"Rohu\"\n",
    "labrador.eat()\n",
    "\n",
    "# call subclass method \n",
    "labrador.display()"
   ]
  }
 ],
 "metadata": {
  "kernelspec": {
   "display_name": "Python 3 (ipykernel)",
   "language": "python",
   "name": "python3"
  },
  "language_info": {
   "codemirror_mode": {
    "name": "ipython",
    "version": 3
   },
   "file_extension": ".py",
   "mimetype": "text/x-python",
   "name": "python",
   "nbconvert_exporter": "python",
   "pygments_lexer": "ipython3",
   "version": "3.10.8"
  }
 },
 "nbformat": 4,
 "nbformat_minor": 5
}
