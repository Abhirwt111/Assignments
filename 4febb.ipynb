{
 "cells": [
  {
   "cell_type": "code",
   "execution_count": 1,
   "id": "c2debc40-5511-4a66-8112-be28e731d6b8",
   "metadata": {},
   "outputs": [
    {
     "name": "stdout",
     "output_type": "stream",
     "text": [
      "Sorted =  [('Virat Kohli', 24936), ('Jack Kallis', 25534), ('Ricky Ponting', 27483), ('Sachin Tendulkar', 34357)]\n"
     ]
    }
   ],
   "source": [
    "'''Q1. Create a python program to sort the given list of tuples based on integer value using a\n",
    "lambda function.\n",
    "[('Sachin Tendulkar', 34357), ('Ricky Ponting', 27483), ('Jack Kallis', 25534), ('Virat Kohli', 24936)] '''\n",
    "\n",
    "a = [('Sachin Tendulkar', 34357), ('Ricky Ponting', 27483), \n",
    "     ('Jack Kallis', 25534), ('Virat Kohli', 24936)]\n",
    "a.sort(key= lambda x:x[1])\n",
    "print('Sorted = ',a)"
   ]
  },
  {
   "cell_type": "code",
   "execution_count": 2,
   "id": "b2d96626-9c2d-4361-b00b-34b2613d0767",
   "metadata": {},
   "outputs": [
    {
     "name": "stdout",
     "output_type": "stream",
     "text": [
      "Squared array =  [1, 4, 9, 16, 25, 36, 49, 64, 81, 100]\n"
     ]
    }
   ],
   "source": [
    "'''Q2. Write a Python Program to find the squares of all the numbers in the given list of integers using\n",
    "lambda and map functions.\n",
    "[1, 2, 3, 4, 5, 6, 7, 8, 9, 10]'''\n",
    "\n",
    "arr = [1, 2, 3, 4, 5, 6, 7, 8, 9, 10]\n",
    "square = list(map(lambda x:x**2,arr))\n",
    "print(\"Squared array = \",square)\n"
   ]
  },
  {
   "cell_type": "code",
   "execution_count": 3,
   "id": "046c33b6-432a-4bd5-946a-a244a82fda8b",
   "metadata": {},
   "outputs": [
    {
     "name": "stdout",
     "output_type": "stream",
     "text": [
      "String tuple =  ('1', '2', '3', '4', '5', '6', '7', '8', '9', '10')\n"
     ]
    }
   ],
   "source": [
    "''' Q3. Write a python program to convert the given list of integers into a tuple of strings. Use map and\n",
    "lambda functions\n",
    "Given String: [1, 2, 3, 4, 5, 6, 7, 8, 9, 10]\n",
    "Expected output: ('1', '2', '3', '4', '5', '6', '7', '8', '9', '10')'''\n",
    "\n",
    "arr = [1, 2, 3, 4, 5, 6, 7, 8, 9, 10]\n",
    "new = tuple(map(lambda x:str(x),arr))\n",
    "print('String tuple = ',new)"
   ]
  },
  {
   "cell_type": "code",
   "execution_count": 4,
   "id": "3bb6e963-b16e-4562-a695-4945ba0d62e3",
   "metadata": {},
   "outputs": [
    {
     "name": "stdout",
     "output_type": "stream",
     "text": [
      "Product =  15511210043330985984000000\n"
     ]
    }
   ],
   "source": [
    "'''Q4. Write a python program using reduce function to compute the product of a list containing numbers\n",
    "from 1 to 25.'''\n",
    "\n",
    "from functools import reduce\n",
    "a = list(range(1,26))\n",
    "print(\"Product = \",reduce(lambda x,y:x*y,a))"
   ]
  },
  {
   "cell_type": "code",
   "execution_count": 5,
   "id": "81212bc8-ebce-4bf8-96f1-79bfdcab7a76",
   "metadata": {},
   "outputs": [
    {
     "name": "stdout",
     "output_type": "stream",
     "text": [
      "Uing filter\n",
      "[6, 60, 90, 120]\n"
     ]
    }
   ],
   "source": [
    "''' Q5. Write a python program to filter the numbers in a given list that are divisible by 2 and 3 using the\n",
    "filter function.\n",
    "[2, 3, 6, 9, 27, 60, 90, 120, 55, 46]'''\n",
    "\n",
    "abc = [2, 3, 6, 9, 27, 60, 90, 120, 55, 46]\n",
    "print('Uing filter')\n",
    "print(list(filter(lambda x:x%2==0 and x%3==0,abc)))"
   ]
  },
  {
   "cell_type": "code",
   "execution_count": 6,
   "id": "e30e3f75-34f3-448d-b018-e03d4441949c",
   "metadata": {},
   "outputs": [
    {
     "name": "stdout",
     "output_type": "stream",
     "text": [
      "Pallindrome list =  ['php', 'aba', 'radar', 'level']\n"
     ]
    }
   ],
   "source": [
    "''' Q6. Write a python program to find palindromes in the given list of strings using lambda and filter\n",
    "function.\n",
    "['python', 'php', 'aba', 'radar', 'level'] '''\n",
    "\n",
    "arr = ['python', 'php', 'aba', 'radar', 'level']\n",
    "pa = list(filter(lambda x:x==x[::-1],arr))\n",
    "print('Pallindrome list = ',pa)"
   ]
  },
  {
   "cell_type": "code",
   "execution_count": null,
   "id": "88b2245a-a9dd-4635-b925-59c697a0e416",
   "metadata": {},
   "outputs": [],
   "source": []
  }
 ],
 "metadata": {
  "kernelspec": {
   "display_name": "Python 3 (ipykernel)",
   "language": "python",
   "name": "python3"
  },
  "language_info": {
   "codemirror_mode": {
    "name": "ipython",
    "version": 3
   },
   "file_extension": ".py",
   "mimetype": "text/x-python",
   "name": "python",
   "nbconvert_exporter": "python",
   "pygments_lexer": "ipython3",
   "version": "3.10.8"
  }
 },
 "nbformat": 4,
 "nbformat_minor": 5
}
