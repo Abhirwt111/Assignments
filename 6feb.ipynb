{
 "cells": [
  {
   "cell_type": "code",
   "execution_count": 1,
   "id": "414b78c8-b9bd-4095-88e8-914f95c2295c",
   "metadata": {},
   "outputs": [
    {
     "name": "stdout",
     "output_type": "stream",
     "text": [
      "Flatten list =  [1, 2, 3, 4, 44, 55, 66, 34, 56, 78, 89, 34, 1, 2, 3, 1, 34, 55, 67, 78, 89, 4, 45, 22, 61, 34, 56]\n",
      "Product =  4134711838987085478833841242112000\n"
     ]
    }
   ],
   "source": [
    "'''Q1. Create a function which will take a list as an argument and return the product of all the numbers\n",
    "after creating a flat list.\n",
    "Use the below-given list as an argument for your function.\n",
    "list1 = [1,2,3,4, [44,55,66, True], False, (34,56,78,89,34), {1,2,3,3,2,1}, {1:34, \"key2\": [55, 67, 78, 89], 4: (45,\n",
    "22, 61, 34)}, [56, 'data science'], 'Machine Learning']\n",
    "Note: you must extract numeric keys and values of the dictionary also.'''\n",
    "from functools import reduce\n",
    "def fun(arr):\n",
    "    new=[]\n",
    "    for x in arr:\n",
    "        if type(x)==int:\n",
    "            new.append(x)\n",
    "        elif type(x)==list or type(x)==tuple:\n",
    "            for y in x:\n",
    "                if type(y)==int:\n",
    "                    new.append(y)\n",
    "        elif type(x)==dict:\n",
    "            for x,y in x.items():\n",
    "                if type(x)==int:\n",
    "                    new.append(x)\n",
    "                if type(y)==int:\n",
    "                    new.append(y)\n",
    "                if type(x)==list or type(x)==tuple:\n",
    "                    for j in x:\n",
    "                        if type(j)==int:\n",
    "                            new.append(j)\n",
    "                if type(y)==list or type(y)==tuple:\n",
    "                    for j in y:\n",
    "                        if type(j)==int:\n",
    "                            new.append(j)\n",
    "                        \n",
    "        elif type(x)==set:\n",
    "            for i in x:\n",
    "                if type(i)==int:\n",
    "                    new.append(i)\n",
    "        else:\n",
    "            pass\n",
    "    return new\n",
    "\n",
    "list1 = [1,2,3,4, [44,55,66, True], False, (34,56,78,89,34), \n",
    "         {1,2,3,3,2,1}, {1:34, \"key2\": [55, 67, 78, 89], 4: (45,22, 61, 34)},\n",
    "         [56, 'data science'], 'Machine Learning']\n",
    "\n",
    "result = fun(list1)\n",
    "print('Flatten list = ',result)\n",
    "print('Product = ',reduce(lambda x,y:x*y,result))"
   ]
  },
  {
   "cell_type": "code",
   "execution_count": 2,
   "id": "48ab999c-0fdc-4042-9a98-5a0082f8c95c",
   "metadata": {},
   "outputs": [
    {
     "name": "stdin",
     "output_type": "stream",
     "text": [
      "String =  I want to become a Data Scientist\n"
     ]
    },
    {
     "name": "stdout",
     "output_type": "stream",
     "text": [
      "Orignal String =  i want to become a data scientist\n",
      "Encrypted String =  r$dzmg$gl$yvxlnv$z$wzgz$hxrvmgrhg\n"
     ]
    }
   ],
   "source": [
    "'''Q2. Write a python program for encrypting a message sent to you by your friend. The logic of encryption\n",
    "should be such that, for a the output should be z. For b, the output should be y. For c, the output should\n",
    "be x respectively. Also, the whitespace should be replaced with a dollar sign. Keep the punctuation\n",
    "marks unchanged.\n",
    "Input Sentence: I want to become a Data Scientist.\n",
    "Encrypt the above input sentence using the program you just created.\n",
    "Note: Convert the given input sentence into lowercase before encrypting. The final output should be\n",
    "lowercase.'''\n",
    "\n",
    "s = input('String = ')\n",
    "s = s.lower()\n",
    "print('Orignal String = ',s)\n",
    "new = ''\n",
    "for x in s:\n",
    "    if x!=' ':\n",
    "        new += chr(97+(122-ord(x)))\n",
    "    else:\n",
    "        new += '$'\n",
    "print('Encrypted String = ',new)\n"
   ]
  },
  {
   "cell_type": "code",
   "execution_count": null,
   "id": "1c84959c-fb80-4317-bf1a-a5e6f8860c57",
   "metadata": {},
   "outputs": [],
   "source": []
  }
 ],
 "metadata": {
  "kernelspec": {
   "display_name": "Python 3 (ipykernel)",
   "language": "python",
   "name": "python3"
  },
  "language_info": {
   "codemirror_mode": {
    "name": "ipython",
    "version": 3
   },
   "file_extension": ".py",
   "mimetype": "text/x-python",
   "name": "python",
   "nbconvert_exporter": "python",
   "pygments_lexer": "ipython3",
   "version": "3.10.8"
  }
 },
 "nbformat": 4,
 "nbformat_minor": 5
}
