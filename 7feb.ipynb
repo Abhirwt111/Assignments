{
 "cells": [
  {
   "cell_type": "code",
   "execution_count": 4,
   "id": "27458d5f-5831-42bb-9974-fb40de55ada9",
   "metadata": {},
   "outputs": [
    {
     "name": "stdin",
     "output_type": "stream",
     "text": [
      "String =  abcDF123@#$%^udh\n"
     ]
    },
    {
     "name": "stdout",
     "output_type": "stream",
     "text": [
      "Entered String =  abcDF123@#$%^udh\n",
      "Valid Password\n"
     ]
    }
   ],
   "source": [
    "''' Q1. You are writing code for a company. The requirement of the company is that you create a python\n",
    "function that will check whether the password entered by the user is correct or not. The function should\n",
    "take the password as input and return the string “Valid Password” if the entered password follows the\n",
    "below-given password guidelines else it should return “Invalid Password”.\n",
    "Note: 1. The Password should contain at least two uppercase letters and at least two lowercase letters.\n",
    "2. The Password should contain at least a number and three special characters.\n",
    "3. The length of the password should be 10 characters long. '''\n",
    "\n",
    "def check(s):\n",
    "    upper  = 0\n",
    "    lower  = 0\n",
    "    number = 0\n",
    "    charac = 0\n",
    "    flag   = 0\n",
    "    if len(s) >= 10:\n",
    "        for x in s:\n",
    "            if x.isupper():\n",
    "                upper += 1\n",
    "            elif x.islower():\n",
    "                lower += 1\n",
    "            elif x.isnumeric():\n",
    "                number += 1\n",
    "            elif x!=' ':\n",
    "                charac += 1\n",
    "            else:\n",
    "                pass\n",
    "        if upper >=2 and lower>=2 and number>=1 and charac>=3:\n",
    "            flag=1   \n",
    "    if flag == 1:\n",
    "        return 'Valid Password'\n",
    "    else:\n",
    "        return 'Invalid Password'\n",
    "    \n",
    "st=input('String = ')\n",
    "print('Entered String = ',st)\n",
    "print(check(st))"
   ]
  },
  {
   "cell_type": "code",
   "execution_count": 5,
   "id": "c9deee79-1b87-4554-b813-18127c7dabd8",
   "metadata": {},
   "outputs": [
    {
     "name": "stdout",
     "output_type": "stream",
     "text": [
      "Square of numbers from 1 to 10 =  [1, 4, 9, 16, 25, 36, 49, 64, 81, 100]\n",
      "\n",
      "Cube of numbers from 1 to 10 =  [1, 8, 27, 64, 125, 216, 343, 512, 729, 1000]\n",
      "\n",
      "Filter odd numbers from the given list. [1, 3, 5, 7, 9]\n",
      "\n",
      "Initial Array =  [1, 2, 3, 4, 5, 6, -1, -2, -3, -4, -5, 0]\n",
      "Positive =  [0, 1, 2, 3, 4, 5, 6]\n",
      "Negative =  [-5, -4, -3, -2, -1]\n",
      "\n",
      "Sorted list using value of tuple =  [('orange', 80), ('mango', 99), ('grapes', 1000)]\n",
      "\n",
      "Check whether 5 is even number or not = False\n",
      "\n",
      "Initial String =  1234\n",
      "Check whether string is numeric or not =  True\n",
      "\n",
      "Initial String =  abcddef\n",
      "Check whether string start with a particular letter (a)=  True\n"
     ]
    }
   ],
   "source": [
    "''' Q2. Solve the below-given questions using at least one of the following:\n",
    "1. Lambda functioJ\n",
    "2. Filter functioJ\n",
    "3. Zap functioJ\n",
    "4. List ComprehensioI\n",
    "B Check if the string starts with a particular letterY\n",
    "B Check if the string is numericY\n",
    "B Sort a list of tuples having fruit names and their quantity. [(\"mango\",99),(\"orange\",80), (\"grapes\", 1000)-\n",
    "B Find the squares of numbers from 1 to 10Y\n",
    "B Find the cube root of numbers from 1 to 10Y\n",
    "B Check if a given number is evenY\n",
    "B Filter odd numbers from the given list.\n",
    "[1,2,3,4,5,6,7,8,9,10-\n",
    "B Sort a list of integers into positive and negative integers lists.\n",
    "[1,2,3,4,5,6,-1,-2,-3,-4,-5,0]'''\n",
    "\n",
    "arr = list(range(1,11))\n",
    "new = list(map(lambda x:x**2,arr))\n",
    "print('Square of numbers from 1 to 10 = ',new)\n",
    "new = list(map(lambda x:x**3,arr))\n",
    "print('\\nCube of numbers from 1 to 10 = ',new)\n",
    "print()\n",
    "\n",
    "# Filter odd numbers from the given list.\n",
    "arr = [1,2,3,4,5,6,7,8,9,10]\n",
    "print('Filter odd numbers from the given list.',list(filter(lambda x:x%2!=0 , arr)),end='\\n')\n",
    "\n",
    "# Sort a list of integers into positive and negative integers lists.\n",
    "a= [1,2,3,4,5,6,-1,-2,-3,-4,-5,0]\n",
    "print('\\nInitial Array = ',a)\n",
    "positive = sorted(list(filter(lambda x:x>=0,a)))\n",
    "negative = sorted(list(filter(lambda x:x<0,a)))\n",
    "print('Positive = ',positive)\n",
    "print('Negative = ',negative)\n",
    "print()\n",
    "\n",
    "\n",
    "arr = [(\"mango\",99),(\"orange\",80), (\"grapes\", 1000)]\n",
    "arr.sort(key= lambda x:x[1])\n",
    "print('Sorted list using value of tuple = ',arr)\n",
    "\n",
    "\n",
    "print('\\nCheck whether 5 is even number or not ',end='= ')\n",
    "n=5\n",
    "g=[True if n%2==0 else False]\n",
    "print(*g)\n",
    "\n",
    "\n",
    "s='1234'\n",
    "print('\\nInitial String = ',s)\n",
    "print('Check whether string is numeric or not = ',end=' ')\n",
    "a = bool(lambda x: True if s.isnumeric() else False)\n",
    "print(a)\n",
    "\n",
    "\n",
    "s='abcddef'\n",
    "print('\\nInitial String = ',s)\n",
    "print('Check whether string start with a particular letter (a)= ',end=' ')\n",
    "res = bool(lambda x: True if s[0]=='a' else False)\n",
    "print(res)"
   ]
  },
  {
   "cell_type": "code",
   "execution_count": null,
   "id": "1bf2b956-9230-493c-82a9-a1c4a5dcb657",
   "metadata": {},
   "outputs": [],
   "source": []
  }
 ],
 "metadata": {
  "kernelspec": {
   "display_name": "Python 3 (ipykernel)",
   "language": "python",
   "name": "python3"
  },
  "language_info": {
   "codemirror_mode": {
    "name": "ipython",
    "version": 3
   },
   "file_extension": ".py",
   "mimetype": "text/x-python",
   "name": "python",
   "nbconvert_exporter": "python",
   "pygments_lexer": "ipython3",
   "version": "3.10.8"
  }
 },
 "nbformat": 4,
 "nbformat_minor": 5
}
