{
 "cells": [
  {
   "cell_type": "code",
   "execution_count": 1,
   "id": "a8e6c65b-59d7-4445-9da8-630602c5b875",
   "metadata": {},
   "outputs": [
    {
     "name": "stdout",
     "output_type": "stream",
     "text": [
      "I have 3 sides\n",
      "I have 4 sides\n",
      "I have 5 sides\n",
      "I have 6 sides\n"
     ]
    }
   ],
   "source": [
    "''' Q1. What is Abstraction in OOps? Explain with an example.\n",
    "#Ans. Abstraction is used to hide the internal functionality of the function from the users. \n",
    "The users only interact with the basic implementation of the function, but inner working is hidden. '''\n",
    "from abc import ABC, abstractmethod\n",
    " \n",
    "class Polygon(ABC):\n",
    " \n",
    "    @abstractmethod\n",
    "    def noofsides(self):\n",
    "        pass\n",
    " \n",
    "class Triangle(Polygon):\n",
    " \n",
    "    # overriding abstract method\n",
    "    def noofsides(self):\n",
    "        print(\"I have 3 sides\")\n",
    " \n",
    "class Pentagon(Polygon):\n",
    " \n",
    "    # overriding abstract method\n",
    "    def noofsides(self):\n",
    "        print(\"I have 5 sides\")\n",
    " \n",
    "class Hexagon(Polygon):\n",
    " \n",
    "    # overriding abstract method\n",
    "    def noofsides(self):\n",
    "        print(\"I have 6 sides\")\n",
    " \n",
    "class Quadrilateral(Polygon):\n",
    " \n",
    "    # overriding abstract method\n",
    "    def noofsides(self):\n",
    "        print(\"I have 4 sides\")\n",
    " \n",
    "# Driver code\n",
    "R = Triangle()\n",
    "R.noofsides()\n",
    " \n",
    "K = Quadrilateral()\n",
    "K.noofsides()\n",
    " \n",
    "R = Pentagon()\n",
    "R.noofsides()\n",
    " \n",
    "K = Hexagon()\n",
    "K.noofsides()"
   ]
  },
  {
   "cell_type": "code",
   "execution_count": null,
   "id": "2435848e-4009-46c3-976f-a4fb9358b6b1",
   "metadata": {},
   "outputs": [],
   "source": [
    "''' Q2. Differentiate between Abstraction and Encapsulation. Explain with an example.\n",
    "    Ans. Encapsulation hides variables or some implementation that may be changed so often in a class to prevent outsiders access it directly. \n",
    "        They must access it via getter and setter methods.\n",
    "        \n",
    "        Abstraction is used to hide something too, but in a higher degree (class, interface).\n",
    "        Clients who use an abstract class (or interface) do not care about what it was, they just need to know what it can do.'''"
   ]
  },
  {
   "cell_type": "code",
   "execution_count": null,
   "id": "7e08f56c-8c3d-4e43-80de-6c22e07ff71e",
   "metadata": {},
   "outputs": [],
   "source": [
    "'''Q3. What is abc module in python? Why is it used?\n",
    "   Ans. ABC stands for abstract base class, The main goal of the abstract base class is to provide a standardized way to test whether\n",
    "   an object adheres to a given specification. It can also prevent any attempt to instantiate a subclass that doesn’t override a particular\n",
    "   method in the superclass. And finally, using an abstract class, a class can derive identity from another class without any object \n",
    "   inheritance.\n",
    "   The 'abc' module in the Python library provides the infrastructure for defining custom abstract base classes.'''\n"
   ]
  },
  {
   "cell_type": "code",
   "execution_count": null,
   "id": "e50f54b4-5799-4a3d-a482-85c34b2d25ed",
   "metadata": {},
   "outputs": [],
   "source": [
    "''' Q4. How can we achieve data abstraction?\n",
    "    Ans. Data Abstraction in Python can be achieved through creating abstract classes and inheriting them later.\n",
    "    Before discussing what abstract classes are, let us have a brief introduction of inheritance.\n",
    "    Inheritance in OOP is a way through which one class inherits the attributes and methods of another class.\n",
    "    The class whose properties and methods are inherited is known as the Parent class.\n",
    "    And the class that inherits the properties from the parent class is the Child class/subclass.'''\n"
   ]
  },
  {
   "cell_type": "code",
   "execution_count": null,
   "id": "30a7ee9a-d07f-46bf-99be-af6b18e98275",
   "metadata": {},
   "outputs": [],
   "source": [
    "''' Q5. Can we create an instance of an abstract class? Explain your answer.\n",
    "    Ans. No we can't create an instance of an abstract class as Abstract classes are not complete, as they may have some methods\n",
    "    that are not defined. So we cannot create an instance or object of an abstract class in Python '''"
   ]
  }
 ],
 "metadata": {
  "kernelspec": {
   "display_name": "Python 3 (ipykernel)",
   "language": "python",
   "name": "python3"
  },
  "language_info": {
   "codemirror_mode": {
    "name": "ipython",
    "version": 3
   },
   "file_extension": ".py",
   "mimetype": "text/x-python",
   "name": "python",
   "nbconvert_exporter": "python",
   "pygments_lexer": "ipython3",
   "version": "3.10.8"
  }
 },
 "nbformat": 4,
 "nbformat_minor": 5
}
