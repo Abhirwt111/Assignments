{
 "cells": [
  {
   "cell_type": "code",
   "execution_count": 5,
   "id": "acc92e5e-9987-404f-a737-63963f70e276",
   "metadata": {},
   "outputs": [
    {
     "name": "stdin",
     "output_type": "stream",
     "text": [
      "Enter your marks 65\n"
     ]
    },
    {
     "name": "stdout",
     "output_type": "stream",
     "text": [
      "Your Grade is C\n"
     ]
    }
   ],
   "source": [
    "# Q1. Write a program to accept percentage from the user and display the grade according to the following criteria:\n",
    "\n",
    "a=int(input(\"Enter your marks\"))\n",
    "\n",
    "if a>90:\n",
    "    print(\"Your Grade is A\")\n",
    "elif a>80 and a<=90:\n",
    "    print(\"Your Grade is B\")\n",
    "elif a>=60 and a<=80:\n",
    "    print(\"Your Grade is C\")\n",
    "else:\n",
    "    print(\"your Grade is D\")\n",
    "    \n"
   ]
  },
  {
   "cell_type": "code",
   "execution_count": 10,
   "id": "931b9baf-a789-46e8-8aa5-5cf3f9ae794a",
   "metadata": {},
   "outputs": [
    {
     "name": "stdin",
     "output_type": "stream",
     "text": [
      "Enter your Cost price (in Rs) 20000\n"
     ]
    },
    {
     "name": "stdout",
     "output_type": "stream",
     "text": [
      "tax = 5%\n"
     ]
    }
   ],
   "source": [
    "# Q2. Write a program to accept the cost price of a bike and display the road tax to be paid according to the following criteria:\n",
    "\n",
    "cost=int(input(\"Enter your Cost price (in Rs)\"))\n",
    "\n",
    "if cost>100000:\n",
    "          print(\"tax = 15% \")\n",
    "elif cost>50000 and cost<=100000:\n",
    "          print(\"tax = 10% \")\n",
    "else :\n",
    "          print(\"tax = 5%\")"
   ]
  },
  {
   "cell_type": "code",
   "execution_count": 14,
   "id": "5cfd5d2d-0552-4c1d-aa37-d85f5ee6382b",
   "metadata": {},
   "outputs": [
    {
     "name": "stdin",
     "output_type": "stream",
     "text": [
      "Enter your City Agra\n"
     ]
    },
    {
     "name": "stdout",
     "output_type": "stream",
     "text": [
      "Monument is Taj Mahal\n"
     ]
    }
   ],
   "source": [
    "# Q3. Write a program to acccept any city from the user and display monuments of that city.\n",
    "\n",
    "city=input(\"Enter your City\")\n",
    "\n",
    "if city==\"Delhi\" :\n",
    "          print(\"Monument is Red Fort\")\n",
    "elif city == \"Agra\" :\n",
    "          print(\"Monument is Taj Mahal\")\n",
    "elif city == \"Jaipur\":\n",
    "          print(\"Monument is Jal Mahal \")"
   ]
  },
  {
   "cell_type": "code",
   "execution_count": 21,
   "id": "b916afb6-94a4-417b-810d-3610297cd48b",
   "metadata": {},
   "outputs": [
    {
     "name": "stdin",
     "output_type": "stream",
     "text": [
      "Enter your no. 9\n"
     ]
    },
    {
     "name": "stdout",
     "output_type": "stream",
     "text": [
      "9 is divisible by 3\n"
     ]
    }
   ],
   "source": [
    "# Q4. Check how many times a given number can be divided by 3 before it is less than or equals to 10.\n",
    "num= int(input(\"Enter your no.\"))\n",
    "\n",
    "if(num%3==0):\n",
    "    print(\"{} is divisible by 3\".format(num))\n",
    "else:\n",
    "    print(\"{} is not divisible by 3\".format(num))"
   ]
  },
  {
   "cell_type": "code",
   "execution_count": 18,
   "id": "77fdd2cd-b256-4d53-bfa3-8f27583d7ba8",
   "metadata": {},
   "outputs": [
    {
     "name": "stdout",
     "output_type": "stream",
     "text": [
      "1\n",
      "2\n",
      "3\n",
      "4\n",
      "5\n"
     ]
    }
   ],
   "source": [
    "# Q5. Why and when to use the while loop in python give a detailed description with example.\n",
    "'''Ans. Python while loop is used to run a block code until a certain condition is met. Here, \n",
    "A while loop evaluates the condition. If the condition evaluates to True , \n",
    "the code inside the while loop is executed.'''\n",
    "# example :-\n",
    "i = 1\n",
    "n = 5\n",
    "\n",
    "while i <= n:\n",
    "    print(i)\n",
    "    i = i + 1"
   ]
  },
  {
   "cell_type": "code",
   "execution_count": 17,
   "id": "e7525171-74b8-459a-b5fa-46df8c650c90",
   "metadata": {},
   "outputs": [
    {
     "name": "stdin",
     "output_type": "stream",
     "text": [
      "Enter number of rows :  4\n"
     ]
    },
    {
     "name": "stdout",
     "output_type": "stream",
     "text": [
      "* \n",
      "* * \n",
      "* * * \n",
      "* * * * \n"
     ]
    }
   ],
   "source": [
    "# Q6. Use a nested while loop to print 3 different patern.\n",
    "n = int(input('Enter number of rows : '))\n",
    " \n",
    "i = 1\n",
    "while i <= n :\n",
    "    j = 1\n",
    "    while j <= i:\n",
    "        print(\"*\", end = \" \")\n",
    "        j += 1\n",
    "    print()\n",
    "    i += 1"
   ]
  },
  {
   "cell_type": "code",
   "execution_count": 15,
   "id": "47fa7fe0-2c8a-4931-b173-f3d4f60e04f4",
   "metadata": {},
   "outputs": [
    {
     "name": "stdout",
     "output_type": "stream",
     "text": [
      "10\n",
      "9\n",
      "8\n",
      "7\n",
      "6\n",
      "5\n",
      "4\n",
      "3\n",
      "2\n",
      "1\n"
     ]
    }
   ],
   "source": [
    "# Q7. Reverse a while loop to display numbers from 10 to 1.\n",
    "\n",
    "a=10\n",
    "while a>0:\n",
    "    print(a)\n",
    "    a=a-1\n",
    "\n"
   ]
  },
  {
   "cell_type": "code",
   "execution_count": 16,
   "id": "3daa5ce9-ab4b-4041-99e8-1387aa8330a1",
   "metadata": {},
   "outputs": [
    {
     "name": "stdout",
     "output_type": "stream",
     "text": [
      "10\n",
      "9\n",
      "8\n",
      "7\n",
      "6\n",
      "5\n",
      "4\n",
      "3\n",
      "2\n",
      "1\n"
     ]
    }
   ],
   "source": [
    "# Q8. Reverse a while loop to display numbers from 10 to 1.\n",
    "a=10\n",
    "while a>0:\n",
    "    print(a)\n",
    "    a=a-1"
   ]
  },
  {
   "cell_type": "code",
   "execution_count": null,
   "id": "142e35db-911d-4a71-8b61-b0e5bd128db8",
   "metadata": {},
   "outputs": [],
   "source": []
  }
 ],
 "metadata": {
  "kernelspec": {
   "display_name": "Python 3 (ipykernel)",
   "language": "python",
   "name": "python3"
  },
  "language_info": {
   "codemirror_mode": {
    "name": "ipython",
    "version": 3
   },
   "file_extension": ".py",
   "mimetype": "text/x-python",
   "name": "python",
   "nbconvert_exporter": "python",
   "pygments_lexer": "ipython3",
   "version": "3.10.8"
  }
 },
 "nbformat": 4,
 "nbformat_minor": 5
}
