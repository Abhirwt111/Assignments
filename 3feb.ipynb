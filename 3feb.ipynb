{
 "cells": [
  {
   "cell_type": "code",
   "execution_count": 1,
   "id": "2f98e7ef-2224-4e0c-be21-33b6964843dd",
   "metadata": {},
   "outputs": [
    {
     "name": "stdout",
     "output_type": "stream",
     "text": [
      "[1, 3, 5, 7, 9, 11, 13, 15, 17, 19, 21, 23]\n"
     ]
    }
   ],
   "source": [
    "#Q1. Which keyword is used to create a function? Create a function to return a list of odd numbers in the range of 1 to 25.\n",
    "# Def keyword is  used to create a function.\n",
    "\n",
    "def odd():\n",
    "    arr = []\n",
    "    for x in range(1,25):\n",
    "        if x%2!=0:\n",
    "            arr.append(x)\n",
    "    return arr\n",
    "\n",
    "result = odd()\n",
    "print(result)\n"
   ]
  },
  {
   "cell_type": "code",
   "execution_count": 3,
   "id": "2fe221fd-2e17-4771-a2bd-61071eaa02ba",
   "metadata": {},
   "outputs": [
    {
     "name": "stdout",
     "output_type": "stream",
     "text": [
      "(1, 2, 3)\n",
      "(1, 2)\n",
      "('abc', 'def')\n",
      "Name = Abhishek\n",
      "roll = 6\n",
      "\n",
      "a = 5\n",
      "b = 6\n",
      "\n"
     ]
    }
   ],
   "source": [
    "#Q2. Why *args and **kwargs is used in some functions? Create a function each for *args and **kwargs to demonstrate their use.\n",
    "\n",
    "\n",
    "# *args is used to take different no of arguments\n",
    "# for a same function where no of arguments are given by user\n",
    "\n",
    "\n",
    "def summ(*arr):\n",
    "    print(arr)\n",
    "\n",
    "summ(1,2,3)\n",
    "summ(1,2)\n",
    "summ('abc','def')\n",
    "\n",
    "# **kwargs is used to take key value pairs\n",
    "# keyworded input from user\n",
    "\n",
    "def abc(**arr):\n",
    "    for x ,y in arr.items():\n",
    "        print(x,'=',y)\n",
    "    print()\n",
    "    \n",
    "    \n",
    "abc(Name='Abhishek',roll=6)\n",
    "abc(a=5,b=6)"
   ]
  },
  {
   "cell_type": "code",
   "execution_count": 4,
   "id": "65c76788-5544-4453-87df-10faec04c528",
   "metadata": {},
   "outputs": [
    {
     "name": "stdout",
     "output_type": "stream",
     "text": [
      "2 4 6 8 10 "
     ]
    }
   ],
   "source": [
    "'''Q3. What is an iterator in python? Name the method used to initialise the iterator object and the method\n",
    "used for iteration. Use these methods to print the first five elements of the given list [2, 4, 6, 8, 10, 12, 14,\n",
    "16, 18, 20].'''\n",
    "\n",
    "'''Iterator in Python is an object that is used to\n",
    "iterate over iterable objects like lists, tuples, dicts, and sets. \n",
    "The iterator object is initialized using the iter() method.\n",
    "It uses the next() method for iteration.'''\n",
    "\n",
    "arr = [2, 4, 6, 8, 10, 12, 14, 16, 18, 20]\n",
    "it = iter(arr)\n",
    "for x in range(5):\n",
    "    print(next(it),end=' ')"
   ]
  },
  {
   "cell_type": "code",
   "execution_count": 5,
   "id": "0324e58f-5a43-4f39-9ae1-e07dbd63ba3c",
   "metadata": {},
   "outputs": [
    {
     "name": "stdout",
     "output_type": "stream",
     "text": [
      "2 4 6 8 10 "
     ]
    }
   ],
   "source": [
    "# Q4. What is a generator function in python? Why yield keyword is used? Give an example of a generator function.\n",
    "\n",
    "# Generator function help us to generate an generator object\n",
    "# which can be traversed by for loop\n",
    "# The yield keyword in Python controls the flow of a generator function.\n",
    "def gen():\n",
    "    for x in range(1,11):\n",
    "        if x%2==0:\n",
    "            yield x\n",
    "\n",
    "result = gen()\n",
    "for x in result:\n",
    "    print(x,end=' ')"
   ]
  },
  {
   "cell_type": "code",
   "execution_count": 6,
   "id": "8efe2da6-64d4-4538-bd4d-bb9137d95607",
   "metadata": {},
   "outputs": [
    {
     "name": "stdout",
     "output_type": "stream",
     "text": [
      "2 3 5 7 11 13 17 19 23 29 31 37 41 43 47 53 59 61 67 71 "
     ]
    }
   ],
   "source": [
    "#Q5. Create a generator function for prime numbers less than 1000. Use the next() method to print the first 20 prime numbers.\n",
    "\n",
    "import math\n",
    "def prime(n):\n",
    "    if n>1:\n",
    "        ctr = True\n",
    "        for x in range(2,int(math.sqrt(n))+1):\n",
    "            if n%x==0:\n",
    "                ctr = False\n",
    "                break\n",
    "        return ctr\n",
    "    else:\n",
    "        return False\n",
    "\n",
    "def gen():\n",
    "    for x in range(0,1000):\n",
    "        if prime(x):\n",
    "            yield x\n",
    "    \n",
    "\n",
    "def n():\n",
    "    ctr=1\n",
    "    for value in gen():\n",
    "        if ctr>20:\n",
    "            break\n",
    "        print(value,end=' ')\n",
    "        ctr+=1\n",
    "        \n",
    "n()"
   ]
  },
  {
   "cell_type": "code",
   "execution_count": 7,
   "id": "de669b06-720f-44de-99d2-eefb3c3ba240",
   "metadata": {},
   "outputs": [
    {
     "name": "stdout",
     "output_type": "stream",
     "text": [
      "0 1 1 2 3 5 8 13 21 34 \n"
     ]
    }
   ],
   "source": [
    "# Q6. Write a python program to print the first 10 Fibonacci numbers using a while loop.\n",
    "\n",
    "start = 0\n",
    "after = 1\n",
    "ctr = 2\n",
    "print(start,after,end=' ')\n",
    "while ctr<10:\n",
    "    ctr+=1\n",
    "    print(start+after,end=' ')\n",
    "    start,after=after,start+after\n",
    "print()"
   ]
  },
  {
   "cell_type": "code",
   "execution_count": 9,
   "id": "8d889b87-e63b-4622-b912-ca57e7ff426b",
   "metadata": {},
   "outputs": [
    {
     "name": "stdin",
     "output_type": "stream",
     "text": [
      "String =  pwskills\n"
     ]
    },
    {
     "name": "stdout",
     "output_type": "stream",
     "text": [
      "['p', 'w', 's', 'k', 'i', 'l', 'l', 's']\n"
     ]
    }
   ],
   "source": [
    "#Q7. Write a List Comprehension to iterate through the given string: ‘pwskills’.Expected output: ['p', 'w', 's', 'k', 'i', 'l', 'l', 's']\n",
    "s = input('String = ')\n",
    "print(list(s))"
   ]
  },
  {
   "cell_type": "code",
   "execution_count": 11,
   "id": "d33387c7-c8d9-4783-9868-4c07c0ca8df2",
   "metadata": {},
   "outputs": [
    {
     "name": "stdin",
     "output_type": "stream",
     "text": [
      "Number =  323\n"
     ]
    },
    {
     "name": "stdout",
     "output_type": "stream",
     "text": [
      "Pallindrome Number \n"
     ]
    }
   ],
   "source": [
    "# Q8. Write a python program to check whether a given number is Palindrome or not using a while loop.\n",
    "n = int(input('Number = '))\n",
    "temp = n \n",
    "rev = 0\n",
    "while temp>0:\n",
    "    rev = rev*10 + (temp%10)\n",
    "    temp = temp//10\n",
    "if n==rev:\n",
    "    print('Pallindrome Number ')\n",
    "else:\n",
    "    print('Not a Pallindrome Number ')"
   ]
  },
  {
   "cell_type": "code",
   "execution_count": null,
   "id": "052b56a4-aadc-4fea-bb3f-ffcac0025860",
   "metadata": {},
   "outputs": [],
   "source": [
    "# Q9. Write a code to print odd numbers from 1 to 100 using list comprehension.\n",
    "arr = list(range(1,101))\n",
    "def fun(n):\n",
    "    if n%2!=0:\n",
    "        return True\n",
    "    else:\n",
    "        return False\n",
    "    \n",
    "new = list(filter(fun,arr))\n",
    "print(new)"
   ]
  }
 ],
 "metadata": {
  "kernelspec": {
   "display_name": "Python 3 (ipykernel)",
   "language": "python",
   "name": "python3"
  },
  "language_info": {
   "codemirror_mode": {
    "name": "ipython",
    "version": 3
   },
   "file_extension": ".py",
   "mimetype": "text/x-python",
   "name": "python",
   "nbconvert_exporter": "python",
   "pygments_lexer": "ipython3",
   "version": "3.10.8"
  }
 },
 "nbformat": 4,
 "nbformat_minor": 5
}
